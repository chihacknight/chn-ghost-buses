{
 "cells": [
  {
   "cell_type": "code",
   "execution_count": 1,
   "id": "215a785c",
   "metadata": {},
   "outputs": [],
   "source": [
    "from pathlib import Path\n",
    "import pandas as pd\n",
    "import calendar\n",
    "from pathlib import Path\n",
    "import typing\n",
    "import json\n",
    "import requests\n",
    "import sys\n"
   ]
  },
  {
   "cell_type": "code",
   "execution_count": 7,
   "id": "4d1e6659",
   "metadata": {},
   "outputs": [],
   "source": [
    "DATA_PATH = Path().home() / 'chn-ghost-buses' / 'data_output' / 'scratch'"
   ]
  },
  {
   "cell_type": "code",
   "execution_count": 3,
   "id": "8d329383",
   "metadata": {},
   "outputs": [],
   "source": [
    "ridership = pd.read_csv('https://data.cityofchicago.org/api/views/jyb9-n7fm/rows.csv?accessType=DOWNLOAD')"
   ]
  },
  {
   "cell_type": "code",
   "execution_count": null,
   "id": "a8ad46ce",
   "metadata": {},
   "outputs": [],
   "source": [
    "def check_existing_date() -> typing.Optional[typing.Tuple[int]]:\n",
    "    \"\"\"Fetch the date of the ridership data currently in main branch of \n",
    "    frontend repo.\n",
    "\n",
    "    Returns:\n",
    "        typing.Optional[typing.Tuple[int]]: A tuple of month and year of the date \n",
    "            of the data in main branch. Returns None if no data is found.\n",
    "    \"\"\"\n",
    "    # Grab the latest date from GitHub. URL doesn't work until frontend \n",
    "    # PR #129 merged into main.\n",
    "    url = 'https://github.com/chihacknight/ghost-buses-frontend/main/src/Routes/cta_ridership_data_day_type_summary.json'\n",
    "    json_data = requests.get(url).json()\n",
    "    if 'error' in json_data.keys():\n",
    "        print(f\"Data not found at {url}\")\n",
    "        return\n",
    "    json_data_gh = json_data['payload']['blob']['rawLines'][0]\n",
    "    website_date = json.loads(json_data_gh)['date']\n",
    "    month, year = website_date.split(' ')\n",
    "    month_int = list(calendar.month_name).index(month)\n",
    "    year_int = int(year)\n",
    "    return month_int, year_int\n"
   ]
  },
  {
   "cell_type": "code",
   "execution_count": 4,
   "id": "23f008a1",
   "metadata": {},
   "outputs": [],
   "source": [
    "def get_latest_month_and_year(ridership: pd.DataFrame) -> tuple:\n",
    "    \"\"\"Return the most recent month and year of the ridership data\n",
    "\n",
    "    Args:\n",
    "        ridership (pd.DataFrame): ridership (pd.DataFrame): DataFrame of ridership \n",
    "            downloaded from\n",
    "            'https://data.cityofchicago.org/api/views/jyb9-n7fm/rows.csv?accessType=DOWNLOAD'\n",
    "            Example:\n",
    "            route\tdate\tdaytype\trides\n",
    "        0\t3\t01/01/2001\tU\t7354\n",
    "        1\t4\t01/01/2001\tU\t9288\n",
    "        2\t6\t01/01/2001\tU\t6048\n",
    "        3\t8\t01/01/2001\tU\t6309\n",
    "        4\t9\t01/01/2001\tU\t11207 \n",
    "\n",
    "    Returns:\n",
    "        tuple: A month, year tuple\n",
    "    \"\"\"\n",
    "    ridership.loc[:,'date'] = pd.to_datetime(ridership.loc[:, 'date'], infer_datetime_format=True)\n",
    "    latest_date = ridership['date'].max()\n",
    "    return latest_date.month, latest_date.year\n"
   ]
  },
  {
   "cell_type": "code",
   "execution_count": 5,
   "id": "184d6d12",
   "metadata": {},
   "outputs": [],
   "source": [
    "def ridership_to_json(ridership_df: pd.DataFrame, month: int = None, year: int = None) -> None:\n",
    "    \"\"\"\n",
    "    Save ridership data to JSON for given month and year.\n",
    "    Note that the data is typically a few months \n",
    "    behind the current date. Takes the latest available data if\n",
    "    month or year are None.\n",
    "\n",
    "    Args:\n",
    "        ridership (pd.DataFrame): DataFrame of ridership downloaded from\n",
    "            'https://data.cityofchicago.org/api/views/jyb9-n7fm/rows.csv?accessType=DOWNLOAD'\n",
    "            Example:\n",
    "            route\tdate\tdaytype\trides\n",
    "        0\t3\t01/01/2001\tU\t7354\n",
    "        1\t4\t01/01/2001\tU\t9288\n",
    "        2\t6\t01/01/2001\tU\t6048\n",
    "        3\t8\t01/01/2001\tU\t6309\n",
    "        4\t9\t01/01/2001\tU\t11207\n",
    "        month (int): Month of interest. Defaults to None\n",
    "        year (int): Year of interest. Defaults to None\n",
    "    \"\"\"\n",
    "    ridership = ridership_df.copy()\n",
    "    latest_month, latest_year = get_latest_month_and_year(ridership)\n",
    "    if month is None:\n",
    "        month = latest_month\n",
    "    if year is None:\n",
    "        year = latest_year\n",
    "    month_name = calendar.month_name[month]\n",
    "    \n",
    "    existing_month, existing_year = check_existing_date()\n",
    "    if month == existing_month and year == existing_year:\n",
    "        print(\"No new ridership data. Exiting now.\")\n",
    "        sys.exit(0)\n",
    "\n",
    "    # Holidays that are the same day every year\n",
    "    hols = ['12/25', '07/04', '01/01']\n",
    "    ridership.loc[ridership.date.str.contains('|'.join(hols)), 'day_type'] = 'hol'\n",
    "\n",
    "    ridership['date'] = pd.to_datetime(ridership.date, format=\"%m/%d/%Y\")\n",
    "    ridership.rename({'route': 'route_id'}, axis=1, inplace=True)\n",
    "    ridership['day_type'] = ridership.daytype.map({'W': 'weekday', 'A': 'sat', 'U': 'sun'})\n",
    "    \n",
    "    df = ridership[(ridership['date'].dt.month == month) & (ridership['date'].dt.year == year)].copy()\n",
    "    \n",
    "    df[['route_id', 'date', 'day_type', 'rides']].to_json(DATA_PATH / f'daily_{month_name}_{year}_cta_ridership_data.json', orient = 'records')\n",
    "    df_daytype_summary = df.groupby(by = ['route_id', 'day_type']).agg({'rides': ['mean', 'sum']}).reset_index()\n",
    "    df_daytype_summary.columns = ['route_id', 'day_type', 'avg_riders', 'total_riders']\n",
    "    df_daytype_summary_json = df_daytype_summary.to_json(orient='records')\n",
    "    full_json = {'date': f'{month_name} {year}'}\n",
    "    full_json['data'] = json.loads(df_daytype_summary_json)\n",
    "    with open(DATA_PATH / f'{month_name}_{year}_cta_ridership_data_day_type_summary.json', 'w') as outfile:\n",
    "        json.dump(full_json, outfile)"
   ]
  },
  {
   "cell_type": "code",
   "execution_count": 8,
   "id": "2051508e",
   "metadata": {},
   "outputs": [],
   "source": [
    "ridership_to_json(ridership)"
   ]
  },
  {
   "cell_type": "code",
   "execution_count": null,
   "id": "2719cec3",
   "metadata": {},
   "outputs": [],
   "source": []
  }
 ],
 "metadata": {
  "kernelspec": {
   "display_name": ".venv",
   "language": "python",
   "name": "python3"
  },
  "language_info": {
   "codemirror_mode": {
    "name": "ipython",
    "version": 3
   },
   "file_extension": ".py",
   "mimetype": "text/x-python",
   "name": "python",
   "nbconvert_exporter": "python",
   "pygments_lexer": "ipython3",
   "version": "3.10.10"
  }
 },
 "nbformat": 4,
 "nbformat_minor": 5
}
