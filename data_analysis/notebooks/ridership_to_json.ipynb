{
 "cells": [
  {
   "cell_type": "code",
   "execution_count": 1,
   "id": "215a785c",
   "metadata": {},
   "outputs": [],
   "source": [
    "from pathlib import Path\n",
    "import pandas as pd\n",
    "import calendar"
   ]
  },
  {
   "cell_type": "code",
   "execution_count": 7,
   "id": "4d1e6659",
   "metadata": {},
   "outputs": [],
   "source": [
    "DATA_PATH = Path().home() / 'chn-ghost-buses' / 'data_output' / 'scratch'"
   ]
  },
  {
   "cell_type": "code",
   "execution_count": 3,
   "id": "8d329383",
   "metadata": {},
   "outputs": [],
   "source": [
    "ridership = pd.read_csv('https://data.cityofchicago.org/api/views/jyb9-n7fm/rows.csv?accessType=DOWNLOAD')"
   ]
  },
  {
   "cell_type": "code",
   "execution_count": 4,
   "id": "23f008a1",
   "metadata": {},
   "outputs": [],
   "source": [
    "def get_latest_month_and_year(ridership: pd.DataFrame) -> tuple:\n",
    "    ridership.loc[:,'date'] = pd.to_datetime(ridership.loc[:, 'date'], format=\"%m/%d/%Y\")\n",
    "    latest_date = ridership['date'].max()\n",
    "    return latest_date.month, latest_date.year\n"
   ]
  },
  {
   "cell_type": "code",
   "execution_count": 5,
   "id": "184d6d12",
   "metadata": {},
   "outputs": [],
   "source": [
    "def ridership_to_json(ridership: pd.DataFrame, month: int = None, year: int = None) -> None:\n",
    "    \"\"\"Save ridership data to JSON for given month and year.\n",
    "    Note that the data is typically a few months \n",
    "    behind the current date. Takes the latest available data if\n",
    "    month or year are None.\n",
    "\n",
    "    Args:\n",
    "        month (int): Month of interest. Defaults to None\n",
    "        year (int): Year of interest. Defaults to None\n",
    "    \"\"\"\n",
    "    latest_month, latest_year = get_latest_month_and_year(ridership)\n",
    "    if month is None:\n",
    "        month = latest_month\n",
    "    elif year is None:\n",
    "        year = latest_year\n",
    "    month_name = calendar.month_name[month]\n",
    "    ridership['date'] = pd.to_datetime(ridership.date, format=\"%m/%d/%Y\")\n",
    "    ridership.rename({'route': 'route_id'}, axis = 1, inplace = True)\n",
    "    df= ridership[(ridership['date'].dt.month == month) & (ridership['date'].dt.year == year)].copy()\n",
    "    df['day_type'] = df.daytype.map({'W': 'weekday', 'A': 'sat', 'U': 'sun'})\n",
    "    df.loc[df.date == '2022-07-04', 'day_type'] = 'hol'\n",
    "    df[['route_id', 'date', 'day_type', 'rides']].to_json(DATA_PATH / f'daily_{month_name}_{year}_cta_ridership_data.json',orient = 'records')\n",
    "    df_daytype_summary = df.groupby(by = ['route_id', 'day_type']).agg({'rides': ['mean', 'sum']}).reset_index()\n",
    "    df_daytype_summary.columns = ['route_id', 'day_type', 'avg_riders', 'total_riders']\n",
    "    df_daytype_summary.to_json(DATA_PATH / f'{month_name}_{year}_cta_ridership_data_day_type_summary.json',orient = 'records')"
   ]
  },
  {
   "cell_type": "code",
   "execution_count": 8,
   "id": "2051508e",
   "metadata": {},
   "outputs": [],
   "source": [
    "ridership_to_json(ridership)"
   ]
  },
  {
   "cell_type": "code",
   "execution_count": null,
   "id": "2719cec3",
   "metadata": {},
   "outputs": [],
   "source": []
  }
 ],
 "metadata": {
  "kernelspec": {
   "display_name": ".venv",
   "language": "python",
   "name": "python3"
  },
  "language_info": {
   "codemirror_mode": {
    "name": "ipython",
    "version": 3
   },
   "file_extension": ".py",
   "mimetype": "text/x-python",
   "name": "python",
   "nbconvert_exporter": "python",
   "pygments_lexer": "ipython3",
   "version": "3.10.10"
  }
 },
 "nbformat": 4,
 "nbformat_minor": 5
}
