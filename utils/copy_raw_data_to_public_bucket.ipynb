{
 "cells": [
  {
   "cell_type": "code",
   "execution_count": null,
   "id": "12ebecef",
   "metadata": {},
   "outputs": [],
   "source": [
    "import boto3\n",
    "import pendulum"
   ]
  },
  {
   "cell_type": "code",
   "execution_count": null,
   "id": "dc86c046",
   "metadata": {},
   "outputs": [],
   "source": [
    "s3 = boto3.resource('s3')\n",
    "private_bucket = s3.Bucket('chn-ghost-buses-private')\n",
    "public_bucket = s3.Bucket('chn-ghost-buses-public')"
   ]
  },
  {
   "cell_type": "code",
   "execution_count": null,
   "id": "4b83b078",
   "metadata": {},
   "outputs": [],
   "source": [
    "# copy raw data from the private bucket to the public bucket \n",
    "start_date = '2022-08-10'\n",
    "end_date = '2022-10-08'\n",
    "\n",
    "date_range = [d for d in pendulum.period(pendulum.from_format(start_date, 'YYYY-MM-DD'), pendulum.from_format(end_date, 'YYYY-MM-DD')).range('days')]"
   ]
  },
  {
   "cell_type": "code",
   "execution_count": null,
   "id": "204bb9d3",
   "metadata": {},
   "outputs": [],
   "source": [
    "# copy fully raw JSON data from private to public\n",
    "for day in date_range:\n",
    "    date_str = day.to_date_string()\n",
    "    print(f\"Processing {date_str} at {pendulum.now().to_datetime_string()}\")\n",
    "    objects = private_bucket.objects.filter(Prefix = f'bus_data/{date_str}')\n",
    "    for obj in objects:\n",
    "        public_bucket.copy({'Bucket': private_bucket.name, 'Key': obj.key}, obj.key)"
   ]
  },
  {
   "cell_type": "code",
   "execution_count": null,
   "id": "d2ac2752",
   "metadata": {},
   "outputs": [],
   "source": [
    "# copy daily CSVs from private to public\n",
    "for day in date_range:\n",
    "    date_str = day.to_date_string()\n",
    "    print(f\"Processing {date_str} at {pendulum.now().to_datetime_string()}\")\n",
    "    data_objects = private_bucket.objects.filter(Prefix = f'bus_full_day_data_v2/{date_str}.csv')\n",
    "    error_objects = private_bucket.objects.filter(Prefix = f'bus_full_day_errors_v2/{date_str}.csv')\n",
    "    for obj in data_objects:\n",
    "        public_bucket.copy({'Bucket': private_bucket.name, 'Key': obj.key}, obj.key)\n",
    "    for obj in error_objects: \n",
    "        public_bucket.copy({'Bucket': private_bucket.name, 'Key': obj.key}, obj.key)"
   ]
  },
  {
   "cell_type": "code",
   "execution_count": null,
   "id": "397493c2",
   "metadata": {},
   "outputs": [],
   "source": []
  }
 ],
 "metadata": {
  "kernelspec": {
   "display_name": "Python 3 (ipykernel)",
   "language": "python",
   "name": "python3"
  },
  "language_info": {
   "codemirror_mode": {
    "name": "ipython",
    "version": 3
   },
   "file_extension": ".py",
   "mimetype": "text/x-python",
   "name": "python",
   "nbconvert_exporter": "python",
   "pygments_lexer": "ipython3",
   "version": "3.9.7"
  }
 },
 "nbformat": 4,
 "nbformat_minor": 5
}
