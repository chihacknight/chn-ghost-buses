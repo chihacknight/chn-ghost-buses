{
 "cells": [
  {
   "cell_type": "markdown",
   "id": "9d733713",
   "metadata": {},
   "source": [
    "# EDA Demo July 26\n",
    "\n",
    "## Intro: Notebooks\n",
    "\n",
    "* What is a notebook\n",
    "* Different notebooks / how to install \n",
    "   * [Google Colab](https://colab.research.google.com)\n",
    "        * [How to use Google Colab with GitHub via Google Drive](https://medium.com/analytics-vidhya/how-to-use-google-colab-with-github-via-google-drive-68efb23a42d)\n",
    "   * Jupyter Notebook / Jupyter Lab\n",
    "        * [Project Jupyter | Installing Jupyter](https://jupyter.org/install)\n",
    "        * [How to set up Anaconda and Jupyter Notebook the right way](https://towardsdatascience.com/how-to-set-up-anaconda-and-jupyter-notebook-the-right-way-de3b7623ea4a)\n",
    "   * [R Markdown](https://rmarkdown.rstudio.com/)\n",
    "\n",
    "\n",
    "## Loading data"
   ]
  },
  {
   "cell_type": "code",
   "execution_count": null,
   "id": "7fee4d17",
   "metadata": {},
   "outputs": [],
   "source": [
    "# !pip install markupsafe==2.0.1\n",
    "# !pip install pandas-profiling"
   ]
  },
  {
   "cell_type": "code",
   "execution_count": null,
   "id": "42b6bf63",
   "metadata": {},
   "outputs": [],
   "source": [
    "# import packages\n",
    "# required for pandas to read csv from aws\n",
    "import s3fs\n",
    "\n",
    "import pandas as pd\n",
    "import pendulum\n",
    "# note that I had to do this: https://stackoverflow.com/a/70689489\n",
    "from pandas_profiling import ProfileReport"
   ]
  },
  {
   "cell_type": "code",
   "execution_count": null,
   "id": "628b01f6",
   "metadata": {},
   "outputs": [],
   "source": [
    "# construct date range that we can use to load in each daily file\n",
    "start_date = '2022-05-20'\n",
    "end_date = '2022-07-16'\n",
    "\n",
    "date_range = [d for d in pendulum.period(\n",
    "    pendulum.from_format(start_date, 'YYYY-MM-DD'), \n",
    "    pendulum.from_format(end_date, 'YYYY-MM-DD')).range('days')]"
   ]
  },
  {
   "cell_type": "code",
   "execution_count": null,
   "id": "32816043",
   "metadata": {
    "scrolled": true
   },
   "outputs": [],
   "source": [
    "date_range"
   ]
  },
  {
   "cell_type": "code",
   "execution_count": null,
   "id": "6cadfb27",
   "metadata": {
    "scrolled": true
   },
   "outputs": [],
   "source": [
    "# copied from: https://github.com/chihacknight/chn-ghost-buses/blob/main/data_analysis/compare_scheduled_and_rt.ipynb\n",
    "# initialize an empty dataframe\n",
    "data_raw = pd.DataFrame()\n",
    "\n",
    "# loop through each date with data\n",
    "for day in date_range:\n",
    "    # format the date as a string like YYYY-MM-DD -- this is the format of the filenames\n",
    "    date_str = day.to_date_string()\n",
    "    # print message to monitor progress\n",
    "    print(f\"Processing {date_str} at {pendulum.now().to_datetime_string()}\")    \n",
    "    # use pandas read_csv method to load each file\n",
    "    daily_data = pd.read_csv(f's3://chn-ghost-buses-public/bus_hourly_summary_v2/{date_str}.csv')\n",
    "    # append the new data to the dataframe we initialized at the beginning \n",
    "    # use concat: https://stackoverflow.com/a/15822811 -- got deprecation warning using append\n",
    "    data_raw = pd.concat([data_raw, daily_data])"
   ]
  },
  {
   "cell_type": "markdown",
   "id": "ea586b0f",
   "metadata": {},
   "source": [
    "## Explore!\n",
    "\n",
    "### Profile"
   ]
  },
  {
   "cell_type": "code",
   "execution_count": null,
   "id": "ec52bd14",
   "metadata": {},
   "outputs": [],
   "source": [
    "# make a copy just to avoid having to reload...\n",
    "data = data_raw.copy()"
   ]
  },
  {
   "cell_type": "code",
   "execution_count": null,
   "id": "8a36fcd6",
   "metadata": {},
   "outputs": [],
   "source": [
    "# pandas-profiling report\n",
    "profile = ProfileReport(data, title=\"Profile\")"
   ]
  },
  {
   "cell_type": "code",
   "execution_count": null,
   "id": "fd499a93",
   "metadata": {},
   "outputs": [],
   "source": [
    "profile.to_notebook_iframe()"
   ]
  },
  {
   "cell_type": "markdown",
   "id": "d0266c92",
   "metadata": {},
   "source": [
    "### Relationships between variables "
   ]
  },
  {
   "cell_type": "code",
   "execution_count": null,
   "id": "e3a74cb5",
   "metadata": {},
   "outputs": [],
   "source": [
    "# examine discrepancies between vehicles, blocks, trips\n",
    "# sort by temporary column: https://stackoverflow.com/a/38663354\n",
    "data['vh_block_diff'] = data.vh_count - data.block_count\n",
    "data['vh_trip_diff'] = data.vh_count - data.trip_count\n",
    "data['block_trip_diff'] = data.block_count - data.trip_count"
   ]
  },
  {
   "cell_type": "code",
   "execution_count": null,
   "id": "6b99690e",
   "metadata": {},
   "outputs": [],
   "source": [
    "data.vh_block_diff.describe()"
   ]
  },
  {
   "cell_type": "code",
   "execution_count": null,
   "id": "bee81dce",
   "metadata": {
    "scrolled": true
   },
   "outputs": [],
   "source": [
    "data[data.vh_count != data.block_count].sort_values(by = 'vh_block_diff', ascending = False)"
   ]
  },
  {
   "cell_type": "markdown",
   "id": "fdf8d79d",
   "metadata": {},
   "source": [
    "### Summarize by routes"
   ]
  },
  {
   "cell_type": "code",
   "execution_count": null,
   "id": "ec0965df",
   "metadata": {},
   "outputs": [],
   "source": [
    "avg_hrly_trips_by_route = data.groupby(by = ['rt', 'data_hour'])['trip_count'].mean().reset_index()"
   ]
  },
  {
   "cell_type": "code",
   "execution_count": null,
   "id": "d8e60bbf",
   "metadata": {},
   "outputs": [],
   "source": [
    "avg_hrly_trips_by_route[avg_hrly_trips_by_route.rt == '22'].plot(x='data_hour', y='trip_count', kind = 'line')"
   ]
  },
  {
   "cell_type": "code",
   "execution_count": null,
   "id": "d990374c",
   "metadata": {},
   "outputs": [],
   "source": []
  }
 ],
 "metadata": {
  "kernelspec": {
   "display_name": "ghost-buses-analysis",
   "language": "python",
   "name": "ghost-buses-analysis"
  },
  "language_info": {
   "codemirror_mode": {
    "name": "ipython",
    "version": 3
   },
   "file_extension": ".py",
   "mimetype": "text/x-python",
   "name": "python",
   "nbconvert_exporter": "python",
   "pygments_lexer": "ipython3",
   "version": "3.10.4"
  }
 },
 "nbformat": 4,
 "nbformat_minor": 5
}
