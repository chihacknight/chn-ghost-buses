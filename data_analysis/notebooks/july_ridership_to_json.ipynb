{
 "cells": [
  {
   "cell_type": "code",
   "execution_count": null,
   "id": "215a785c",
   "metadata": {},
   "outputs": [],
   "source": [
    "import pandas as pd"
   ]
  },
  {
   "cell_type": "code",
   "execution_count": null,
   "id": "5715813c",
   "metadata": {},
   "outputs": [],
   "source": [
    "# load all data as CSV\n",
    "# I think if you want to be fancy you can actually do a query within the UI or use their API to request a subset of rows\n",
    "ridership = pd.read_csv('https://data.cityofchicago.org/api/views/jyb9-n7fm/rows.csv?accessType=DOWNLOAD')"
   ]
  },
  {
   "cell_type": "code",
   "execution_count": null,
   "id": "864cad33",
   "metadata": {},
   "outputs": [],
   "source": [
    "# convert to actual date\n",
    "ridership['date'] = pd.to_datetime(ridership.date, format=\"%m/%d/%Y\")"
   ]
  },
  {
   "cell_type": "code",
   "execution_count": null,
   "id": "59ba77ad",
   "metadata": {},
   "outputs": [],
   "source": [
    "ridership.rename({'route': 'route_id'}, axis = 1, inplace = True)"
   ]
  },
  {
   "cell_type": "code",
   "execution_count": null,
   "id": "e21b81d5",
   "metadata": {},
   "outputs": [],
   "source": [
    "# take July 2022 subset\n",
    "july = ridership[(ridership['date'].dt.month == 7) & (ridership['date'].dt.year == 2022)].copy()"
   ]
  },
  {
   "cell_type": "code",
   "execution_count": null,
   "id": "56d21b12",
   "metadata": {},
   "outputs": [],
   "source": [
    "# map their encoded values\n",
    "july['day_type'] = july.daytype.map({'W': 'weekday', 'A': 'sat', 'U': 'sun'})"
   ]
  },
  {
   "cell_type": "code",
   "execution_count": null,
   "id": "670975e4",
   "metadata": {},
   "outputs": [],
   "source": [
    "# handle 4th of July\n",
    "july.loc[july.date == '2022-07-04', 'day_type'] = 'hol'"
   ]
  },
  {
   "cell_type": "code",
   "execution_count": null,
   "id": "c7ebe5ae",
   "metadata": {},
   "outputs": [],
   "source": [
    "# raw daily data\n",
    "july[['route_id', 'date', 'day_type', 'rides']].to_json('daily_july2022_cta_ridership_data.json',orient = 'records')"
   ]
  },
  {
   "cell_type": "code",
   "execution_count": null,
   "id": "603a07e4",
   "metadata": {},
   "outputs": [],
   "source": [
    "# group to get day type averages\n",
    "july_daytype_summary = july.groupby(by = ['route_id', 'day_type']).agg({'rides': ['mean', 'sum']}).reset_index()"
   ]
  },
  {
   "cell_type": "code",
   "execution_count": null,
   "id": "26410af0",
   "metadata": {},
   "outputs": [],
   "source": [
    "# reset from multiindex\n",
    "july_daytype_summary.columns = ['route_id', 'day_type', 'avg_riders', 'total_riders']"
   ]
  },
  {
   "cell_type": "code",
   "execution_count": null,
   "id": "ab32f889",
   "metadata": {},
   "outputs": [],
   "source": [
    "# summary by day type\n",
    "july_daytype_summary.to_json('july2022_cta_ridership_data_day_type_summary.json',orient = 'records')"
   ]
  },
  {
   "cell_type": "code",
   "execution_count": null,
   "id": "184d6d12",
   "metadata": {},
   "outputs": [],
   "source": []
  }
 ],
 "metadata": {
  "kernelspec": {
   "display_name": "ghost-buses-analysis",
   "language": "python",
   "name": "ghost-buses-analysis"
  },
  "language_info": {
   "codemirror_mode": {
    "name": "ipython",
    "version": 3
   },
   "file_extension": ".py",
   "mimetype": "text/x-python",
   "name": "python",
   "nbconvert_exporter": "python",
   "pygments_lexer": "ipython3",
   "version": "3.10.4"
  }
 },
 "nbformat": 4,
 "nbformat_minor": 5
}
